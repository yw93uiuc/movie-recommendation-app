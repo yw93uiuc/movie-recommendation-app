{
 "cells": [
  {
   "cell_type": "markdown",
   "id": "b1a3d209-324a-4a05-be2a-ed859a5594c3",
   "metadata": {},
   "source": [
    "## System 1"
   ]
  },
  {
   "cell_type": "code",
   "execution_count": 8,
   "id": "4294c509-0c91-437c-8d36-eaaf690ec4c1",
   "metadata": {},
   "outputs": [
    {
     "name": "stdout",
     "output_type": "stream",
     "text": [
      "Top 10 Most Popular Movies:\n",
      "      MovieID                                              Title  num_ratings  \\\n",
      "2651     2858                             American Beauty (1999)         3428   \n",
      "253       260          Star Wars: Episode IV - A New Hope (1977)         2991   \n",
      "1106     1196  Star Wars: Episode V - The Empire Strikes Back...         2990   \n",
      "1120     1210  Star Wars: Episode VI - Return of the Jedi (1983)         2883   \n",
      "466       480                               Jurassic Park (1993)         2672   \n",
      "1848     2028                         Saving Private Ryan (1998)         2653   \n",
      "575       589                  Terminator 2: Judgment Day (1991)         2649   \n",
      "2374     2571                                 Matrix, The (1999)         2590   \n",
      "1178     1270                          Back to the Future (1985)         2583   \n",
      "579       593                   Silence of the Lambs, The (1991)         2578   \n",
      "\n",
      "      avg_rating  \n",
      "2651    4.317386  \n",
      "253     4.453694  \n",
      "1106    4.292977  \n",
      "1120    4.022893  \n",
      "466     3.763847  \n",
      "1848    4.337354  \n",
      "575     4.058513  \n",
      "2374    4.315830  \n",
      "1178    3.990321  \n",
      "579     4.351823  \n"
     ]
    }
   ],
   "source": [
    "import pandas as pd\n",
    "\n",
    "# Load datasets\n",
    "ratings_path = 'ratings.dat'  # Path to ratings.dat\n",
    "movies_path = 'movies.dat'  # Path to movies.dat\n",
    "\n",
    "# Read the datasets with proper encoding and separator\n",
    "ratings_df = pd.read_csv(ratings_path, sep='::', engine='python', header=None, encoding='latin-1')\n",
    "movies_df = pd.read_csv(movies_path, sep='::', engine='python', header=None, encoding='latin-1')\n",
    "\n",
    "# Assign proper column names\n",
    "ratings_df.columns = ['UserID', 'MovieID', 'Rating', 'Timestamp']\n",
    "movies_df.columns = ['MovieID', 'Title', 'Genres']\n",
    "\n",
    "# Step 1: Compute Popularity Metrics\n",
    "# Aggregate the number of ratings and average rating for each movie\n",
    "movie_stats = ratings_df.groupby('MovieID').agg(\n",
    "    num_ratings=('Rating', 'count'),\n",
    "    avg_rating=('Rating', 'mean')\n",
    ").reset_index()\n",
    "\n",
    "# Step 2: Merge with Movie Titles\n",
    "movie_stats = movie_stats.merge(movies_df[['MovieID', 'Title']], on='MovieID')\n",
    "\n",
    "# Step 3: Sort by Popularity (number of ratings and average rating)\n",
    "popular_movies = movie_stats.sort_values(by=['num_ratings', 'avg_rating'], ascending=False)\n",
    "\n",
    "# Step 4: Select the Top 10 Movies\n",
    "top_10_movies = popular_movies.head(10)\n",
    "\n",
    "# Step 5: Save Results to an HTML File\n",
    "output_html = top_10_movies[['MovieID', 'Title', 'num_ratings', 'avg_rating']].to_html(index=False)\n",
    "with open(\"top_10_popular_movies.html\", \"w\") as f:\n",
    "    f.write(output_html)\n",
    "\n",
    "# Print the top 10 movies\n",
    "print(\"Top 10 Most Popular Movies:\")\n",
    "print(top_10_movies[['MovieID', 'Title', 'num_ratings', 'avg_rating']])\n"
   ]
  },
  {
   "cell_type": "markdown",
   "id": "e8255e50-1101-43eb-881a-852e0cfb0c0f",
   "metadata": {},
   "source": [
    "## System 2"
   ]
  },
  {
   "cell_type": "code",
   "execution_count": 9,
   "id": "fe3768ba-a2be-4bb2-a5ce-8d7ce5ad9a2a",
   "metadata": {},
   "outputs": [
    {
     "name": "stdout",
     "output_type": "stream",
     "text": [
      "   MovieID  PredictedRating\n",
      "0     1610         0.161290\n",
      "1     3613         0.087706\n",
      "2     1235         0.073509\n",
      "3     1755         0.067797\n",
      "4     2140         0.047921\n",
      "5     2252         0.045485\n",
      "6     2395         0.044205\n",
      "7     2552         0.043269\n",
      "8      239         0.037381\n",
      "9      113         0.036582\n"
     ]
    }
   ],
   "source": [
    "import numpy as np\n",
    "import pandas as pd\n",
    "\n",
    "# Step 1: Load and Preprocess the Data\n",
    "ratings_path = 'ratings.dat'  # Path to ratings.dat\n",
    "movies_path = 'movies.dat'  # Path to movies.dat\n",
    "\n",
    "ratings_df = pd.read_csv(ratings_path, sep='::', engine='python', header=None, encoding='latin-1')\n",
    "ratings_df.columns = ['UserID', 'MovieID', 'Rating', 'Timestamp']\n",
    "\n",
    "# Create a pivot table (rating matrix) where rows are users and columns are movies\n",
    "rating_matrix = ratings_df.pivot(index='UserID', columns='MovieID', values='Rating')\n",
    "\n",
    "# Step 2: Normalize the Rating Matrix\n",
    "# Subtract the mean of each user's ratings (ignoring NaNs)\n",
    "rating_matrix_centered = rating_matrix.sub(rating_matrix.mean(axis=1), axis=0)\n",
    "\n",
    "# Step 3: Compute Cosine Similarity\n",
    "# Define a function to calculate cosine similarity\n",
    "def cosine_similarity(matrix):\n",
    "    norm = np.sqrt(np.nansum(matrix**2, axis=0))  # Compute norms for each column\n",
    "    similarity = np.dot(matrix.T.fillna(0), matrix.fillna(0)) / (norm[:, None] * norm[None, :])\n",
    "    return similarity\n",
    "\n",
    "similarity_matrix = cosine_similarity(rating_matrix_centered)\n",
    "\n",
    "# Step 4: Filter Top 30 Similarities\n",
    "# For each movie, keep only the top 30 most similar movies\n",
    "def filter_top_k(similarity_matrix, k=30):\n",
    "    filtered_matrix = np.zeros_like(similarity_matrix)\n",
    "    for i in range(similarity_matrix.shape[0]):\n",
    "        top_k_indices = np.argsort(-similarity_matrix[i, :])[:k]\n",
    "        filtered_matrix[i, top_k_indices] = similarity_matrix[i, top_k_indices]\n",
    "    return filtered_matrix\n",
    "\n",
    "top_k_similarity_matrix = filter_top_k(similarity_matrix)\n",
    "\n",
    "# Step 5: Define the Recommendation Function\n",
    "def myIBCF(new_user_ratings, top_k_similarity_matrix, rating_matrix, k=30):\n",
    "    \"\"\"\n",
    "    Input:\n",
    "        - new_user_ratings: A 1D array of the new user's ratings (aligned to movie IDs).\n",
    "        - top_k_similarity_matrix: Precomputed similarity matrix with top-k filtering.\n",
    "        - rating_matrix: Original rating matrix.\n",
    "        - k: Number of similar movies to consider.\n",
    "    Output:\n",
    "        - A DataFrame of top 10 recommended movies.\n",
    "    \"\"\"\n",
    "    weighted_sum = np.nansum(top_k_similarity_matrix * new_user_ratings[:, None], axis=0)\n",
    "    normalization = np.nansum((top_k_similarity_matrix != 0) * ~np.isnan(new_user_ratings[:, None]), axis=0)\n",
    "    predicted_ratings = weighted_sum / normalization\n",
    "\n",
    "    # Sort and select top 10 recommendations\n",
    "    recommended_indices = np.argsort(-predicted_ratings)[:10]\n",
    "    recommendations = pd.DataFrame({\n",
    "        'MovieID': recommended_indices + 1,  # Adjust index to MovieID\n",
    "        'PredictedRating': predicted_ratings[recommended_indices]\n",
    "    })\n",
    "    return recommendations\n",
    "\n",
    "# Test Case: Use a sample new user\n",
    "new_user_ratings = np.zeros(rating_matrix.shape[1])  # Initialize with zeros (no ratings yet)\n",
    "new_user_ratings[1609] = 5  # User rated MovieID 1610 with 5\n",
    "new_user_ratings[1754] = 4  # User rated MovieID 1755 with 4\n",
    "\n",
    "# Get recommendations for the new user\n",
    "recommendations = myIBCF(new_user_ratings, top_k_similarity_matrix, rating_matrix)\n",
    "print(recommendations)\n"
   ]
  },
  {
   "cell_type": "code",
   "execution_count": 10,
   "id": "cc459d19-8a26-4282-aa08-f80b9989faf9",
   "metadata": {},
   "outputs": [
    {
     "name": "stdout",
     "output_type": "stream",
     "text": [
      "   MovieID  PredictedRating\n",
      "0     2902         2.000000\n",
      "1      146         2.000000\n",
      "2     3628         2.000000\n",
      "3     3444         1.609998\n",
      "4     2421         1.572573\n",
      "5     2651         1.430507\n",
      "6     2087         1.301591\n",
      "7      404         1.188671\n",
      "8     3531         1.173817\n",
      "9     2739         1.167772\n"
     ]
    }
   ],
   "source": [
    "user_u1181_ratings = rating_matrix.loc[1181].fillna(0).values  # Replace NaN with 0 for unrated movies\n",
    "recommendations_u1181 = myIBCF(user_u1181_ratings, top_k_similarity_matrix, rating_matrix)\n",
    "print(recommendations_u1181)\n"
   ]
  },
  {
   "cell_type": "markdown",
   "id": "1406454f-ca80-48b7-9e14-c350ad363b95",
   "metadata": {},
   "source": [
    "## App"
   ]
  },
  {
   "cell_type": "code",
   "execution_count": null,
   "id": "f8c6765a-c7a8-45c5-bda4-0271aac54bed",
   "metadata": {},
   "outputs": [],
   "source": []
  },
  {
   "cell_type": "code",
   "execution_count": null,
   "id": "cbea06a1-e8cf-4a85-8025-3c8c962a3f19",
   "metadata": {},
   "outputs": [],
   "source": []
  }
 ],
 "metadata": {
  "kernelspec": {
   "display_name": "Python 3 (ipykernel)",
   "language": "python",
   "name": "python3"
  },
  "language_info": {
   "codemirror_mode": {
    "name": "ipython",
    "version": 3
   },
   "file_extension": ".py",
   "mimetype": "text/x-python",
   "name": "python",
   "nbconvert_exporter": "python",
   "pygments_lexer": "ipython3",
   "version": "3.11.8"
  }
 },
 "nbformat": 4,
 "nbformat_minor": 5
}
